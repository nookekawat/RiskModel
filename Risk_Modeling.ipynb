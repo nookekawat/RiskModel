{
  "nbformat": 4,
  "nbformat_minor": 0,
  "metadata": {
    "colab": {
      "provenance": [],
      "toc_visible": true,
      "authorship_tag": "ABX9TyP4UeaV6obHJMH66WRsnnFG",
      "include_colab_link": true
    },
    "kernelspec": {
      "name": "python3",
      "display_name": "Python 3"
    },
    "language_info": {
      "name": "python"
    }
  },
  "cells": [
    {
      "cell_type": "markdown",
      "metadata": {
        "id": "view-in-github",
        "colab_type": "text"
      },
      "source": [
        "<a href=\"https://colab.research.google.com/github/nookekawat/RiskModel/blob/main/Risk_Modeling.ipynb\" target=\"_parent\"><img src=\"https://colab.research.google.com/assets/colab-badge.svg\" alt=\"Open In Colab\"/></a>"
      ]
    },
    {
      "cell_type": "code",
      "source": [
        "import pandas as pd"
      ],
      "metadata": {
        "id": "od9P_MWrvTSg"
      },
      "execution_count": null,
      "outputs": []
    },
    {
      "cell_type": "code",
      "source": [
        "df = pd.read_csv('https://github.com/nookekawat/RiskModel/raw/main/Default.csv')\n",
        "df.sample(5)"
      ],
      "metadata": {
        "colab": {
          "base_uri": "https://localhost:8080/",
          "height": 750
        },
        "id": "6GyMMPaJaZKw",
        "outputId": "999c64b4-d3b3-4797-f21e-ab385e675886"
      },
      "execution_count": null,
      "outputs": [
        {
          "output_type": "execute_result",
          "data": {
            "text/plain": [
              "    default             id                fname gender  age  \\\n",
              "7         0  KKU6532CHA.CH     ฉัตรชนก เจริญสุข   หญิง   19   \n",
              "8         0         HPF11A  พฤฒิภรณ์ ปานวัชราคม   หญิง   22   \n",
              "20        0         HPF76F    วุฒิชัย พึ่งสว่าง    ชาย   23   \n",
              "3         0  BU1651.THA.SI    ธัญญา ศรีนทีทันดร   หญิง   20   \n",
              "2         0         HPF19l        ศรุตยา พรมนิล   หญิง   23   \n",
              "\n",
              "                   region          live_who  sibling  \\\n",
              "7   ภาคตะวันออกเฉียงเหนือ          ครอบครัว        2   \n",
              "8       กรุงเทพและปริมณฑล  อยู่หอพักส่วนตัว        2   \n",
              "20      กรุงเทพและปริมณฑล  อยู่หอพักส่วนตัว        1   \n",
              "3             ภาคตะวันออก  อยู่หอพักส่วนตัว        2   \n",
              "2       กรุงเทพและปริมณฑล  อยู่หอพักส่วนตัว        1   \n",
              "\n",
              "                                          i_from      i_freq  ...  \\\n",
              "7                             รายได้จากผู้ปกครอง    รายเดือน  ...   \n",
              "8                             รายได้จากผู้ปกครอง    รายเดือน  ...   \n",
              "20                            รายได้จากผู้ปกครอง    รายเดือน  ...   \n",
              "3   รายได้จากธุรกิจส่วนตัว หรือการทำงานพาร์ทไทม์  รายสัปดาห์  ...   \n",
              "2   รายได้จากธุรกิจส่วนตัว หรือการทำงานพาร์ทไทม์      รายวัน  ...   \n",
              "\n",
              "                                        i_2_from    i_2_freq i_2_amount  \\\n",
              "7   รายได้จากธุรกิจส่วนตัว หรือการทำงานพาร์ทไทม์  รายสัปดาห์       1500   \n",
              "8                                       สอนพิเศษ      รายวัน       2000   \n",
              "20  รายได้จากธุรกิจส่วนตัว หรือการทำงานพาร์ทไทม์    รายเดือน       3000   \n",
              "3                                          ไม่มี       ไม่มี          0   \n",
              "2   รายได้จากธุรกิจส่วนตัว หรือการทำงานพาร์ทไทม์  รายสัปดาห์       2000   \n",
              "\n",
              "    remain  loan_before debt_remain             loan_objective  \\\n",
              "7   1000.0       ไม่เคย         0.0      เพื่อการหมุนเวียนเงิน   \n",
              "8    498.0          เคย      1722.0      เพื่อการหมุนเวียนเงิน   \n",
              "20    11.0          เคย      4000.0      เพื่อการหมุนเวียนเงิน   \n",
              "3    500.0          เคย         0.0  เพื่อค่าใช้จ่ายด้านสุขภาพ   \n",
              "2     39.0          เคย         0.0      เพื่อการหมุนเวียนเงิน   \n",
              "\n",
              "                                           repay_plan average_ex  \\\n",
              "7                                              ดอกต่ำ     1042.0   \n",
              "8              แบ่งเงินส่วนหนึ่งไว้คืน และคืนตามกำหนด     3000.0   \n",
              "20  ชำระหนี้ตามลำดับความสำคัญ คือยอดไหนถึงกำหนดก่อ...     3000.0   \n",
              "3   คืนรายอาทิตย์ เงินออกทุก 15 และสิ้นเดือน มีแพล...     8000.0   \n",
              "2                                        ชำระเป็นงวดๆ     2000.0   \n",
              "\n",
              "    อธิบายเกี่ยวกับรายได้และรายจ่าย  \n",
              "7                               NaN  \n",
              "8                               NaN  \n",
              "20                              NaN  \n",
              "3                               NaN  \n",
              "2                               NaN  \n",
              "\n",
              "[5 rows x 21 columns]"
            ],
            "text/html": [
              "\n",
              "  <div id=\"df-0fcfe956-70dd-478c-a6d7-b17ed3387bef\">\n",
              "    <div class=\"colab-df-container\">\n",
              "      <div>\n",
              "<style scoped>\n",
              "    .dataframe tbody tr th:only-of-type {\n",
              "        vertical-align: middle;\n",
              "    }\n",
              "\n",
              "    .dataframe tbody tr th {\n",
              "        vertical-align: top;\n",
              "    }\n",
              "\n",
              "    .dataframe thead th {\n",
              "        text-align: right;\n",
              "    }\n",
              "</style>\n",
              "<table border=\"1\" class=\"dataframe\">\n",
              "  <thead>\n",
              "    <tr style=\"text-align: right;\">\n",
              "      <th></th>\n",
              "      <th>default</th>\n",
              "      <th>id</th>\n",
              "      <th>fname</th>\n",
              "      <th>gender</th>\n",
              "      <th>age</th>\n",
              "      <th>region</th>\n",
              "      <th>live_who</th>\n",
              "      <th>sibling</th>\n",
              "      <th>i_from</th>\n",
              "      <th>i_freq</th>\n",
              "      <th>...</th>\n",
              "      <th>i_2_from</th>\n",
              "      <th>i_2_freq</th>\n",
              "      <th>i_2_amount</th>\n",
              "      <th>remain</th>\n",
              "      <th>loan_before</th>\n",
              "      <th>debt_remain</th>\n",
              "      <th>loan_objective</th>\n",
              "      <th>repay_plan</th>\n",
              "      <th>average_ex</th>\n",
              "      <th>อธิบายเกี่ยวกับรายได้และรายจ่าย</th>\n",
              "    </tr>\n",
              "  </thead>\n",
              "  <tbody>\n",
              "    <tr>\n",
              "      <th>7</th>\n",
              "      <td>0</td>\n",
              "      <td>KKU6532CHA.CH</td>\n",
              "      <td>ฉัตรชนก เจริญสุข</td>\n",
              "      <td>หญิง</td>\n",
              "      <td>19</td>\n",
              "      <td>ภาคตะวันออกเฉียงเหนือ</td>\n",
              "      <td>ครอบครัว</td>\n",
              "      <td>2</td>\n",
              "      <td>รายได้จากผู้ปกครอง</td>\n",
              "      <td>รายเดือน</td>\n",
              "      <td>...</td>\n",
              "      <td>รายได้จากธุรกิจส่วนตัว หรือการทำงานพาร์ทไทม์</td>\n",
              "      <td>รายสัปดาห์</td>\n",
              "      <td>1500</td>\n",
              "      <td>1000.0</td>\n",
              "      <td>ไม่เคย</td>\n",
              "      <td>0.0</td>\n",
              "      <td>เพื่อการหมุนเวียนเงิน</td>\n",
              "      <td>ดอกต่ำ</td>\n",
              "      <td>1042.0</td>\n",
              "      <td>NaN</td>\n",
              "    </tr>\n",
              "    <tr>\n",
              "      <th>8</th>\n",
              "      <td>0</td>\n",
              "      <td>HPF11A</td>\n",
              "      <td>พฤฒิภรณ์ ปานวัชราคม</td>\n",
              "      <td>หญิง</td>\n",
              "      <td>22</td>\n",
              "      <td>กรุงเทพและปริมณฑล</td>\n",
              "      <td>อยู่หอพักส่วนตัว</td>\n",
              "      <td>2</td>\n",
              "      <td>รายได้จากผู้ปกครอง</td>\n",
              "      <td>รายเดือน</td>\n",
              "      <td>...</td>\n",
              "      <td>สอนพิเศษ</td>\n",
              "      <td>รายวัน</td>\n",
              "      <td>2000</td>\n",
              "      <td>498.0</td>\n",
              "      <td>เคย</td>\n",
              "      <td>1722.0</td>\n",
              "      <td>เพื่อการหมุนเวียนเงิน</td>\n",
              "      <td>แบ่งเงินส่วนหนึ่งไว้คืน และคืนตามกำหนด</td>\n",
              "      <td>3000.0</td>\n",
              "      <td>NaN</td>\n",
              "    </tr>\n",
              "    <tr>\n",
              "      <th>20</th>\n",
              "      <td>0</td>\n",
              "      <td>HPF76F</td>\n",
              "      <td>วุฒิชัย พึ่งสว่าง</td>\n",
              "      <td>ชาย</td>\n",
              "      <td>23</td>\n",
              "      <td>กรุงเทพและปริมณฑล</td>\n",
              "      <td>อยู่หอพักส่วนตัว</td>\n",
              "      <td>1</td>\n",
              "      <td>รายได้จากผู้ปกครอง</td>\n",
              "      <td>รายเดือน</td>\n",
              "      <td>...</td>\n",
              "      <td>รายได้จากธุรกิจส่วนตัว หรือการทำงานพาร์ทไทม์</td>\n",
              "      <td>รายเดือน</td>\n",
              "      <td>3000</td>\n",
              "      <td>11.0</td>\n",
              "      <td>เคย</td>\n",
              "      <td>4000.0</td>\n",
              "      <td>เพื่อการหมุนเวียนเงิน</td>\n",
              "      <td>ชำระหนี้ตามลำดับความสำคัญ คือยอดไหนถึงกำหนดก่อ...</td>\n",
              "      <td>3000.0</td>\n",
              "      <td>NaN</td>\n",
              "    </tr>\n",
              "    <tr>\n",
              "      <th>3</th>\n",
              "      <td>0</td>\n",
              "      <td>BU1651.THA.SI</td>\n",
              "      <td>ธัญญา ศรีนทีทันดร</td>\n",
              "      <td>หญิง</td>\n",
              "      <td>20</td>\n",
              "      <td>ภาคตะวันออก</td>\n",
              "      <td>อยู่หอพักส่วนตัว</td>\n",
              "      <td>2</td>\n",
              "      <td>รายได้จากธุรกิจส่วนตัว หรือการทำงานพาร์ทไทม์</td>\n",
              "      <td>รายสัปดาห์</td>\n",
              "      <td>...</td>\n",
              "      <td>ไม่มี</td>\n",
              "      <td>ไม่มี</td>\n",
              "      <td>0</td>\n",
              "      <td>500.0</td>\n",
              "      <td>เคย</td>\n",
              "      <td>0.0</td>\n",
              "      <td>เพื่อค่าใช้จ่ายด้านสุขภาพ</td>\n",
              "      <td>คืนรายอาทิตย์ เงินออกทุก 15 และสิ้นเดือน มีแพล...</td>\n",
              "      <td>8000.0</td>\n",
              "      <td>NaN</td>\n",
              "    </tr>\n",
              "    <tr>\n",
              "      <th>2</th>\n",
              "      <td>0</td>\n",
              "      <td>HPF19l</td>\n",
              "      <td>ศรุตยา พรมนิล</td>\n",
              "      <td>หญิง</td>\n",
              "      <td>23</td>\n",
              "      <td>กรุงเทพและปริมณฑล</td>\n",
              "      <td>อยู่หอพักส่วนตัว</td>\n",
              "      <td>1</td>\n",
              "      <td>รายได้จากธุรกิจส่วนตัว หรือการทำงานพาร์ทไทม์</td>\n",
              "      <td>รายวัน</td>\n",
              "      <td>...</td>\n",
              "      <td>รายได้จากธุรกิจส่วนตัว หรือการทำงานพาร์ทไทม์</td>\n",
              "      <td>รายสัปดาห์</td>\n",
              "      <td>2000</td>\n",
              "      <td>39.0</td>\n",
              "      <td>เคย</td>\n",
              "      <td>0.0</td>\n",
              "      <td>เพื่อการหมุนเวียนเงิน</td>\n",
              "      <td>ชำระเป็นงวดๆ</td>\n",
              "      <td>2000.0</td>\n",
              "      <td>NaN</td>\n",
              "    </tr>\n",
              "  </tbody>\n",
              "</table>\n",
              "<p>5 rows × 21 columns</p>\n",
              "</div>\n",
              "      <button class=\"colab-df-convert\" onclick=\"convertToInteractive('df-0fcfe956-70dd-478c-a6d7-b17ed3387bef')\"\n",
              "              title=\"Convert this dataframe to an interactive table.\"\n",
              "              style=\"display:none;\">\n",
              "        \n",
              "  <svg xmlns=\"http://www.w3.org/2000/svg\" height=\"24px\"viewBox=\"0 0 24 24\"\n",
              "       width=\"24px\">\n",
              "    <path d=\"M0 0h24v24H0V0z\" fill=\"none\"/>\n",
              "    <path d=\"M18.56 5.44l.94 2.06.94-2.06 2.06-.94-2.06-.94-.94-2.06-.94 2.06-2.06.94zm-11 1L8.5 8.5l.94-2.06 2.06-.94-2.06-.94L8.5 2.5l-.94 2.06-2.06.94zm10 10l.94 2.06.94-2.06 2.06-.94-2.06-.94-.94-2.06-.94 2.06-2.06.94z\"/><path d=\"M17.41 7.96l-1.37-1.37c-.4-.4-.92-.59-1.43-.59-.52 0-1.04.2-1.43.59L10.3 9.45l-7.72 7.72c-.78.78-.78 2.05 0 2.83L4 21.41c.39.39.9.59 1.41.59.51 0 1.02-.2 1.41-.59l7.78-7.78 2.81-2.81c.8-.78.8-2.07 0-2.86zM5.41 20L4 18.59l7.72-7.72 1.47 1.35L5.41 20z\"/>\n",
              "  </svg>\n",
              "      </button>\n",
              "      \n",
              "  <style>\n",
              "    .colab-df-container {\n",
              "      display:flex;\n",
              "      flex-wrap:wrap;\n",
              "      gap: 12px;\n",
              "    }\n",
              "\n",
              "    .colab-df-convert {\n",
              "      background-color: #E8F0FE;\n",
              "      border: none;\n",
              "      border-radius: 50%;\n",
              "      cursor: pointer;\n",
              "      display: none;\n",
              "      fill: #1967D2;\n",
              "      height: 32px;\n",
              "      padding: 0 0 0 0;\n",
              "      width: 32px;\n",
              "    }\n",
              "\n",
              "    .colab-df-convert:hover {\n",
              "      background-color: #E2EBFA;\n",
              "      box-shadow: 0px 1px 2px rgba(60, 64, 67, 0.3), 0px 1px 3px 1px rgba(60, 64, 67, 0.15);\n",
              "      fill: #174EA6;\n",
              "    }\n",
              "\n",
              "    [theme=dark] .colab-df-convert {\n",
              "      background-color: #3B4455;\n",
              "      fill: #D2E3FC;\n",
              "    }\n",
              "\n",
              "    [theme=dark] .colab-df-convert:hover {\n",
              "      background-color: #434B5C;\n",
              "      box-shadow: 0px 1px 3px 1px rgba(0, 0, 0, 0.15);\n",
              "      filter: drop-shadow(0px 1px 2px rgba(0, 0, 0, 0.3));\n",
              "      fill: #FFFFFF;\n",
              "    }\n",
              "  </style>\n",
              "\n",
              "      <script>\n",
              "        const buttonEl =\n",
              "          document.querySelector('#df-0fcfe956-70dd-478c-a6d7-b17ed3387bef button.colab-df-convert');\n",
              "        buttonEl.style.display =\n",
              "          google.colab.kernel.accessAllowed ? 'block' : 'none';\n",
              "\n",
              "        async function convertToInteractive(key) {\n",
              "          const element = document.querySelector('#df-0fcfe956-70dd-478c-a6d7-b17ed3387bef');\n",
              "          const dataTable =\n",
              "            await google.colab.kernel.invokeFunction('convertToInteractive',\n",
              "                                                     [key], {});\n",
              "          if (!dataTable) return;\n",
              "\n",
              "          const docLinkHtml = 'Like what you see? Visit the ' +\n",
              "            '<a target=\"_blank\" href=https://colab.research.google.com/notebooks/data_table.ipynb>data table notebook</a>'\n",
              "            + ' to learn more about interactive tables.';\n",
              "          element.innerHTML = '';\n",
              "          dataTable['output_type'] = 'display_data';\n",
              "          await google.colab.output.renderOutput(dataTable, element);\n",
              "          const docLink = document.createElement('div');\n",
              "          docLink.innerHTML = docLinkHtml;\n",
              "          element.appendChild(docLink);\n",
              "        }\n",
              "      </script>\n",
              "    </div>\n",
              "  </div>\n",
              "  "
            ]
          },
          "metadata": {},
          "execution_count": 2
        }
      ]
    },
    {
      "cell_type": "markdown",
      "source": [
        "# BayTheorem"
      ],
      "metadata": {
        "id": "nNlaULQci4Dh"
      }
    },
    {
      "cell_type": "code",
      "source": [
        "#p(d | a ) = [p(a  | d) * p(d) / p(a)]\n",
        "def prob(column, values):\n",
        "  n = len(df)\n",
        "  a = len(df[df[column] == values])\n",
        "  d = len(df[df['default'] == 1])\n",
        "  p_a_d = len(df[(df[column] == values) & (df['default'] == 1)])/d\n",
        "\n",
        "  #Probability\n",
        "  p_a = a/n\n",
        "  p_d = d/n\n",
        "\n",
        "  # Probability default given a\n",
        "  p_d_a = (p_a_d * p_d)/p_a\n",
        "  return p_d_a"
      ],
      "metadata": {
        "id": "JPxSsnT2akjj"
      },
      "execution_count": null,
      "outputs": []
    },
    {
      "cell_type": "code",
      "source": [
        "print(f\"\"\"\n",
        "    {'-' * 50}\n",
        "    probability loan default given gender male : {prob('gender', 'ชาย')}\n",
        "    probability loan default given gender female : {prob('gender', 'หญิง')}\n",
        "    {'-' * 50}\n",
        "    probability loan default given loan before : {prob('loan_before', 'เคย')}\n",
        "    probability loan default given  non loan before : {prob('loan_before', 'ไม่เคย')}\n",
        "    {'-' * 50}\n",
        "    probability loan default given  non loan before : {prob('live_who', 'อยู่หอพักส่วนตัว')}\n",
        "\n",
        "    \n",
        "\"\"\")"
      ],
      "metadata": {
        "colab": {
          "base_uri": "https://localhost:8080/"
        },
        "id": "Si9tE53YfLNi",
        "outputId": "dbf25d63-fa1e-4faa-c0f6-0c897ef37524"
      },
      "execution_count": null,
      "outputs": [
        {
          "output_type": "stream",
          "name": "stdout",
          "text": [
            "\n",
            "    --------------------------------------------------\n",
            "    probability loan default given gender male : 0.25\n",
            "    probability loan default given gender female : 0.05555555555555555\n",
            "    --------------------------------------------------\n",
            "    probability loan default given loan before : 0.09374999999999999\n",
            "    probability loan default given  non loan before : 0.08333333333333334\n",
            "    --------------------------------------------------\n",
            "    probability loan default given  non loan before : 0.12903225806451613\n",
            "\n",
            "    \n",
            "\n"
          ]
        }
      ]
    },
    {
      "cell_type": "code",
      "source": [
        "print(prob_gender('region', 'แฟน', 'อยู่หอพักส่วนตัว', 'ครอบครัว'))"
      ],
      "metadata": {
        "colab": {
          "base_uri": "https://localhost:8080/",
          "height": 287
        },
        "id": "gD4UULuxhQMw",
        "outputId": "e6e01c76-e22b-45d8-926e-c5c69fab77e2"
      },
      "execution_count": null,
      "outputs": [
        {
          "output_type": "error",
          "ename": "ZeroDivisionError",
          "evalue": "ignored",
          "traceback": [
            "\u001b[0;31m---------------------------------------------------------------------------\u001b[0m",
            "\u001b[0;31mZeroDivisionError\u001b[0m                         Traceback (most recent call last)",
            "\u001b[0;32m<ipython-input-33-85b4c2eba065>\u001b[0m in \u001b[0;36m<cell line: 1>\u001b[0;34m()\u001b[0m\n\u001b[0;32m----> 1\u001b[0;31m \u001b[0mprint\u001b[0m\u001b[0;34m(\u001b[0m\u001b[0mprob_gender\u001b[0m\u001b[0;34m(\u001b[0m\u001b[0;34m'region'\u001b[0m\u001b[0;34m,\u001b[0m \u001b[0;34m'แฟน'\u001b[0m\u001b[0;34m,\u001b[0m \u001b[0;34m'อยู่หอพักส่วนตัว'\u001b[0m\u001b[0;34m,\u001b[0m \u001b[0;34m'ครอบครัว'\u001b[0m\u001b[0;34m)\u001b[0m\u001b[0;34m)\u001b[0m\u001b[0;34m\u001b[0m\u001b[0;34m\u001b[0m\u001b[0m\n\u001b[0m",
            "\u001b[0;32m<ipython-input-32-646da75302eb>\u001b[0m in \u001b[0;36mprob_gender\u001b[0;34m(column, value_1, value_2, value_3)\u001b[0m\n\u001b[1;32m     18\u001b[0m \u001b[0;34m\u001b[0m\u001b[0m\n\u001b[1;32m     19\u001b[0m   \u001b[0;31m# Probability default given a\u001b[0m\u001b[0;34m\u001b[0m\u001b[0;34m\u001b[0m\u001b[0m\n\u001b[0;32m---> 20\u001b[0;31m   \u001b[0mp_d_a_1\u001b[0m \u001b[0;34m=\u001b[0m \u001b[0;34m(\u001b[0m\u001b[0mp_a_d_1\u001b[0m \u001b[0;34m*\u001b[0m \u001b[0mp_d\u001b[0m\u001b[0;34m)\u001b[0m\u001b[0;34m/\u001b[0m\u001b[0mp_a_1\u001b[0m\u001b[0;34m\u001b[0m\u001b[0;34m\u001b[0m\u001b[0m\n\u001b[0m\u001b[1;32m     21\u001b[0m   \u001b[0mp_d_a_2\u001b[0m \u001b[0;34m=\u001b[0m \u001b[0;34m(\u001b[0m\u001b[0mp_a_d_2\u001b[0m \u001b[0;34m*\u001b[0m \u001b[0mp_d\u001b[0m\u001b[0;34m)\u001b[0m\u001b[0;34m/\u001b[0m\u001b[0mp_a_2\u001b[0m\u001b[0;34m\u001b[0m\u001b[0;34m\u001b[0m\u001b[0m\n\u001b[1;32m     22\u001b[0m   \u001b[0mp_d_a_3\u001b[0m \u001b[0;34m=\u001b[0m \u001b[0;34m(\u001b[0m\u001b[0mp_a_d_3\u001b[0m \u001b[0;34m*\u001b[0m \u001b[0mp_d\u001b[0m\u001b[0;34m)\u001b[0m\u001b[0;34m/\u001b[0m\u001b[0mp_a_3\u001b[0m\u001b[0;34m\u001b[0m\u001b[0;34m\u001b[0m\u001b[0m\n",
            "\u001b[0;31mZeroDivisionError\u001b[0m: float division by zero"
          ]
        }
      ]
    },
    {
      "cell_type": "markdown",
      "source": [
        "# Logistic"
      ],
      "metadata": {
        "id": "tKYpF1xujAOh"
      }
    },
    {
      "cell_type": "code",
      "source": [
        "from sklearn.model_selection import train_test_split\n",
        "from sklearn.linear_model import LogisticRegression\n",
        "import statsmodels.api as sm"
      ],
      "metadata": {
        "id": "uy0pnfEXjCJE"
      },
      "execution_count": null,
      "outputs": []
    },
    {
      "cell_type": "code",
      "source": [
        "df2 = df.copy()"
      ],
      "metadata": {
        "id": "Y7GVp3XETfA7"
      },
      "execution_count": null,
      "outputs": []
    },
    {
      "cell_type": "code",
      "source": [
        "df2.replace('ชาย', 0, inplace = True)\n",
        "df2.replace('หญิง', 1, inplace = True)"
      ],
      "metadata": {
        "id": "mfZ9iXOaTpeM"
      },
      "execution_count": null,
      "outputs": []
    },
    {
      "cell_type": "code",
      "source": [
        "df2.replace('ไม่เคย', 0, inplace = True)\n",
        "df2.replace('เคย', 1, inplace = True)"
      ],
      "metadata": {
        "id": "L6Yl9pS-U7Ok"
      },
      "execution_count": null,
      "outputs": []
    },
    {
      "cell_type": "code",
      "source": [
        "df2.sample(2)"
      ],
      "metadata": {
        "colab": {
          "base_uri": "https://localhost:8080/",
          "height": 431
        },
        "id": "5dvZDT3YTzy1",
        "outputId": "99552da6-18cd-4960-a607-10fe8e1bc7ef"
      },
      "execution_count": null,
      "outputs": [
        {
          "output_type": "execute_result",
          "data": {
            "text/plain": [
              "    default            id                     fname  gender  age  \\\n",
              "14        0        HPF67G  พิชญ์สุพัตรา ชูสนิทนิธิศ       1   21   \n",
              "32        0  TU6030TIT.WS      ฐิติรัตน์ วังสวัสดิ์       1   24   \n",
              "\n",
              "               region          live_who  sibling  \\\n",
              "14  กรุงเทพและปริมณฑล               แฟน        2   \n",
              "32  กรุงเทพและปริมณฑล  อยู่หอพักส่วนตัว        2   \n",
              "\n",
              "                                          i_from    i_freq  ...  \\\n",
              "14  รายได้จากธุรกิจส่วนตัว หรือการทำงานพาร์ทไทม์  รายเดือน  ...   \n",
              "32                                    ทำงานประจำ  รายเดือน  ...   \n",
              "\n",
              "              i_2_from    i_2_freq i_2_amount  remain  loan_before  \\\n",
              "14               ไม่มี       ไม่มี          0   300.0            1   \n",
              "32  รายได้จากผู้ปกครอง  รายสัปดาห์        700   128.0            1   \n",
              "\n",
              "    debt_remain         loan_objective             repay_plan average_ex  \\\n",
              "14       2000.0  เพื่อการหมุนเวียนเงิน           ชำระรายเดือน     1500.0   \n",
              "32          0.0  เพื่อการหมุนเวียนเงิน  ผ่อนชำระ (ส่งเป็นงวด)     1500.0   \n",
              "\n",
              "    อธิบายเกี่ยวกับรายได้และรายจ่าย  \n",
              "14                              NaN  \n",
              "32                              NaN  \n",
              "\n",
              "[2 rows x 21 columns]"
            ],
            "text/html": [
              "\n",
              "  <div id=\"df-87f78488-bbd1-4bc0-9455-dd57b9bddc8f\">\n",
              "    <div class=\"colab-df-container\">\n",
              "      <div>\n",
              "<style scoped>\n",
              "    .dataframe tbody tr th:only-of-type {\n",
              "        vertical-align: middle;\n",
              "    }\n",
              "\n",
              "    .dataframe tbody tr th {\n",
              "        vertical-align: top;\n",
              "    }\n",
              "\n",
              "    .dataframe thead th {\n",
              "        text-align: right;\n",
              "    }\n",
              "</style>\n",
              "<table border=\"1\" class=\"dataframe\">\n",
              "  <thead>\n",
              "    <tr style=\"text-align: right;\">\n",
              "      <th></th>\n",
              "      <th>default</th>\n",
              "      <th>id</th>\n",
              "      <th>fname</th>\n",
              "      <th>gender</th>\n",
              "      <th>age</th>\n",
              "      <th>region</th>\n",
              "      <th>live_who</th>\n",
              "      <th>sibling</th>\n",
              "      <th>i_from</th>\n",
              "      <th>i_freq</th>\n",
              "      <th>...</th>\n",
              "      <th>i_2_from</th>\n",
              "      <th>i_2_freq</th>\n",
              "      <th>i_2_amount</th>\n",
              "      <th>remain</th>\n",
              "      <th>loan_before</th>\n",
              "      <th>debt_remain</th>\n",
              "      <th>loan_objective</th>\n",
              "      <th>repay_plan</th>\n",
              "      <th>average_ex</th>\n",
              "      <th>อธิบายเกี่ยวกับรายได้และรายจ่าย</th>\n",
              "    </tr>\n",
              "  </thead>\n",
              "  <tbody>\n",
              "    <tr>\n",
              "      <th>14</th>\n",
              "      <td>0</td>\n",
              "      <td>HPF67G</td>\n",
              "      <td>พิชญ์สุพัตรา ชูสนิทนิธิศ</td>\n",
              "      <td>1</td>\n",
              "      <td>21</td>\n",
              "      <td>กรุงเทพและปริมณฑล</td>\n",
              "      <td>แฟน</td>\n",
              "      <td>2</td>\n",
              "      <td>รายได้จากธุรกิจส่วนตัว หรือการทำงานพาร์ทไทม์</td>\n",
              "      <td>รายเดือน</td>\n",
              "      <td>...</td>\n",
              "      <td>ไม่มี</td>\n",
              "      <td>ไม่มี</td>\n",
              "      <td>0</td>\n",
              "      <td>300.0</td>\n",
              "      <td>1</td>\n",
              "      <td>2000.0</td>\n",
              "      <td>เพื่อการหมุนเวียนเงิน</td>\n",
              "      <td>ชำระรายเดือน</td>\n",
              "      <td>1500.0</td>\n",
              "      <td>NaN</td>\n",
              "    </tr>\n",
              "    <tr>\n",
              "      <th>32</th>\n",
              "      <td>0</td>\n",
              "      <td>TU6030TIT.WS</td>\n",
              "      <td>ฐิติรัตน์ วังสวัสดิ์</td>\n",
              "      <td>1</td>\n",
              "      <td>24</td>\n",
              "      <td>กรุงเทพและปริมณฑล</td>\n",
              "      <td>อยู่หอพักส่วนตัว</td>\n",
              "      <td>2</td>\n",
              "      <td>ทำงานประจำ</td>\n",
              "      <td>รายเดือน</td>\n",
              "      <td>...</td>\n",
              "      <td>รายได้จากผู้ปกครอง</td>\n",
              "      <td>รายสัปดาห์</td>\n",
              "      <td>700</td>\n",
              "      <td>128.0</td>\n",
              "      <td>1</td>\n",
              "      <td>0.0</td>\n",
              "      <td>เพื่อการหมุนเวียนเงิน</td>\n",
              "      <td>ผ่อนชำระ (ส่งเป็นงวด)</td>\n",
              "      <td>1500.0</td>\n",
              "      <td>NaN</td>\n",
              "    </tr>\n",
              "  </tbody>\n",
              "</table>\n",
              "<p>2 rows × 21 columns</p>\n",
              "</div>\n",
              "      <button class=\"colab-df-convert\" onclick=\"convertToInteractive('df-87f78488-bbd1-4bc0-9455-dd57b9bddc8f')\"\n",
              "              title=\"Convert this dataframe to an interactive table.\"\n",
              "              style=\"display:none;\">\n",
              "        \n",
              "  <svg xmlns=\"http://www.w3.org/2000/svg\" height=\"24px\"viewBox=\"0 0 24 24\"\n",
              "       width=\"24px\">\n",
              "    <path d=\"M0 0h24v24H0V0z\" fill=\"none\"/>\n",
              "    <path d=\"M18.56 5.44l.94 2.06.94-2.06 2.06-.94-2.06-.94-.94-2.06-.94 2.06-2.06.94zm-11 1L8.5 8.5l.94-2.06 2.06-.94-2.06-.94L8.5 2.5l-.94 2.06-2.06.94zm10 10l.94 2.06.94-2.06 2.06-.94-2.06-.94-.94-2.06-.94 2.06-2.06.94z\"/><path d=\"M17.41 7.96l-1.37-1.37c-.4-.4-.92-.59-1.43-.59-.52 0-1.04.2-1.43.59L10.3 9.45l-7.72 7.72c-.78.78-.78 2.05 0 2.83L4 21.41c.39.39.9.59 1.41.59.51 0 1.02-.2 1.41-.59l7.78-7.78 2.81-2.81c.8-.78.8-2.07 0-2.86zM5.41 20L4 18.59l7.72-7.72 1.47 1.35L5.41 20z\"/>\n",
              "  </svg>\n",
              "      </button>\n",
              "      \n",
              "  <style>\n",
              "    .colab-df-container {\n",
              "      display:flex;\n",
              "      flex-wrap:wrap;\n",
              "      gap: 12px;\n",
              "    }\n",
              "\n",
              "    .colab-df-convert {\n",
              "      background-color: #E8F0FE;\n",
              "      border: none;\n",
              "      border-radius: 50%;\n",
              "      cursor: pointer;\n",
              "      display: none;\n",
              "      fill: #1967D2;\n",
              "      height: 32px;\n",
              "      padding: 0 0 0 0;\n",
              "      width: 32px;\n",
              "    }\n",
              "\n",
              "    .colab-df-convert:hover {\n",
              "      background-color: #E2EBFA;\n",
              "      box-shadow: 0px 1px 2px rgba(60, 64, 67, 0.3), 0px 1px 3px 1px rgba(60, 64, 67, 0.15);\n",
              "      fill: #174EA6;\n",
              "    }\n",
              "\n",
              "    [theme=dark] .colab-df-convert {\n",
              "      background-color: #3B4455;\n",
              "      fill: #D2E3FC;\n",
              "    }\n",
              "\n",
              "    [theme=dark] .colab-df-convert:hover {\n",
              "      background-color: #434B5C;\n",
              "      box-shadow: 0px 1px 3px 1px rgba(0, 0, 0, 0.15);\n",
              "      filter: drop-shadow(0px 1px 2px rgba(0, 0, 0, 0.3));\n",
              "      fill: #FFFFFF;\n",
              "    }\n",
              "  </style>\n",
              "\n",
              "      <script>\n",
              "        const buttonEl =\n",
              "          document.querySelector('#df-87f78488-bbd1-4bc0-9455-dd57b9bddc8f button.colab-df-convert');\n",
              "        buttonEl.style.display =\n",
              "          google.colab.kernel.accessAllowed ? 'block' : 'none';\n",
              "\n",
              "        async function convertToInteractive(key) {\n",
              "          const element = document.querySelector('#df-87f78488-bbd1-4bc0-9455-dd57b9bddc8f');\n",
              "          const dataTable =\n",
              "            await google.colab.kernel.invokeFunction('convertToInteractive',\n",
              "                                                     [key], {});\n",
              "          if (!dataTable) return;\n",
              "\n",
              "          const docLinkHtml = 'Like what you see? Visit the ' +\n",
              "            '<a target=\"_blank\" href=https://colab.research.google.com/notebooks/data_table.ipynb>data table notebook</a>'\n",
              "            + ' to learn more about interactive tables.';\n",
              "          element.innerHTML = '';\n",
              "          dataTable['output_type'] = 'display_data';\n",
              "          await google.colab.output.renderOutput(dataTable, element);\n",
              "          const docLink = document.createElement('div');\n",
              "          docLink.innerHTML = docLinkHtml;\n",
              "          element.appendChild(docLink);\n",
              "        }\n",
              "      </script>\n",
              "    </div>\n",
              "  </div>\n",
              "  "
            ]
          },
          "metadata": {},
          "execution_count": 32
        }
      ]
    },
    {
      "cell_type": "code",
      "source": [
        "X, y = df2[['gender', 'loan_before']], df2.default\n",
        "\n",
        "X_train, X_test, y_train, y_test = train_test_split(X, y, \n",
        "                                                    test_size = 0.2, \n",
        "                                                    random_state = 7)"
      ],
      "metadata": {
        "id": "9gJgEqfCS2p3"
      },
      "execution_count": null,
      "outputs": []
    },
    {
      "cell_type": "code",
      "source": [
        "model = LogisticRegression(solver='lbfgs')"
      ],
      "metadata": {
        "id": "S-F1TtWLS6vc"
      },
      "execution_count": null,
      "outputs": []
    },
    {
      "cell_type": "code",
      "source": [
        "fit = model.fit(X_train, y_train)"
      ],
      "metadata": {
        "id": "Qms_Z1H_S-bt"
      },
      "execution_count": null,
      "outputs": []
    },
    {
      "cell_type": "code",
      "source": [
        "logit_m = sm.Logit(X_train, y_train)\n",
        "result = logit_m.fit()"
      ],
      "metadata": {
        "colab": {
          "base_uri": "https://localhost:8080/"
        },
        "id": "YR9FB5vxWXY8",
        "outputId": "5ad2c4a1-8d2c-40d6-b413-365b3800dd4a"
      },
      "execution_count": null,
      "outputs": [
        {
          "output_type": "error",
          "ename": "ValueError",
          "evalue": "ignored",
          "traceback": [
            "\u001b[0;31m---------------------------------------------------------------------------\u001b[0m",
            "\u001b[0;31mValueError\u001b[0m                                Traceback (most recent call last)",
            "\u001b[0;32m<ipython-input-49-8aa7e1f08d4c>\u001b[0m in \u001b[0;36m<cell line: 2>\u001b[0;34m()\u001b[0m\n\u001b[1;32m      1\u001b[0m \u001b[0mlogit_m\u001b[0m \u001b[0;34m=\u001b[0m \u001b[0msm\u001b[0m\u001b[0;34m.\u001b[0m\u001b[0mLogit\u001b[0m\u001b[0;34m(\u001b[0m\u001b[0mX_train\u001b[0m\u001b[0;34m,\u001b[0m \u001b[0my_train\u001b[0m\u001b[0;34m)\u001b[0m\u001b[0;34m\u001b[0m\u001b[0;34m\u001b[0m\u001b[0m\n\u001b[0;32m----> 2\u001b[0;31m \u001b[0mresult\u001b[0m \u001b[0;34m=\u001b[0m \u001b[0mlogit_m\u001b[0m\u001b[0;34m.\u001b[0m\u001b[0mfit\u001b[0m\u001b[0;34m(\u001b[0m\u001b[0;34m)\u001b[0m\u001b[0;34m\u001b[0m\u001b[0;34m\u001b[0m\u001b[0m\n\u001b[0m",
            "\u001b[0;32m/usr/local/lib/python3.9/dist-packages/statsmodels/discrete/discrete_model.py\u001b[0m in \u001b[0;36mfit\u001b[0;34m(self, start_params, method, maxiter, full_output, disp, callback, **kwargs)\u001b[0m\n\u001b[1;32m   1981\u001b[0m     def fit(self, start_params=None, method='newton', maxiter=35,\n\u001b[1;32m   1982\u001b[0m             full_output=1, disp=1, callback=None, **kwargs):\n\u001b[0;32m-> 1983\u001b[0;31m         bnryfit = super().fit(start_params=start_params,\n\u001b[0m\u001b[1;32m   1984\u001b[0m                               \u001b[0mmethod\u001b[0m\u001b[0;34m=\u001b[0m\u001b[0mmethod\u001b[0m\u001b[0;34m,\u001b[0m\u001b[0;34m\u001b[0m\u001b[0;34m\u001b[0m\u001b[0m\n\u001b[1;32m   1985\u001b[0m                               \u001b[0mmaxiter\u001b[0m\u001b[0;34m=\u001b[0m\u001b[0mmaxiter\u001b[0m\u001b[0;34m,\u001b[0m\u001b[0;34m\u001b[0m\u001b[0;34m\u001b[0m\u001b[0m\n",
            "\u001b[0;32m/usr/local/lib/python3.9/dist-packages/statsmodels/discrete/discrete_model.py\u001b[0m in \u001b[0;36mfit\u001b[0;34m(self, start_params, method, maxiter, full_output, disp, callback, **kwargs)\u001b[0m\n\u001b[1;32m    228\u001b[0m             \u001b[0;32mpass\u001b[0m  \u001b[0;31m# TODO: make a function factory to have multiple call-backs\u001b[0m\u001b[0;34m\u001b[0m\u001b[0;34m\u001b[0m\u001b[0m\n\u001b[1;32m    229\u001b[0m \u001b[0;34m\u001b[0m\u001b[0m\n\u001b[0;32m--> 230\u001b[0;31m         mlefit = super().fit(start_params=start_params,\n\u001b[0m\u001b[1;32m    231\u001b[0m                              \u001b[0mmethod\u001b[0m\u001b[0;34m=\u001b[0m\u001b[0mmethod\u001b[0m\u001b[0;34m,\u001b[0m\u001b[0;34m\u001b[0m\u001b[0;34m\u001b[0m\u001b[0m\n\u001b[1;32m    232\u001b[0m                              \u001b[0mmaxiter\u001b[0m\u001b[0;34m=\u001b[0m\u001b[0mmaxiter\u001b[0m\u001b[0;34m,\u001b[0m\u001b[0;34m\u001b[0m\u001b[0;34m\u001b[0m\u001b[0m\n",
            "\u001b[0;32m/usr/local/lib/python3.9/dist-packages/statsmodels/base/model.py\u001b[0m in \u001b[0;36mfit\u001b[0;34m(self, start_params, method, maxiter, full_output, disp, fargs, callback, retall, skip_hessian, **kwargs)\u001b[0m\n\u001b[1;32m    561\u001b[0m \u001b[0;34m\u001b[0m\u001b[0m\n\u001b[1;32m    562\u001b[0m         \u001b[0moptimizer\u001b[0m \u001b[0;34m=\u001b[0m \u001b[0mOptimizer\u001b[0m\u001b[0;34m(\u001b[0m\u001b[0;34m)\u001b[0m\u001b[0;34m\u001b[0m\u001b[0;34m\u001b[0m\u001b[0m\n\u001b[0;32m--> 563\u001b[0;31m         xopt, retvals, optim_settings = optimizer._fit(f, score, start_params,\n\u001b[0m\u001b[1;32m    564\u001b[0m                                                        \u001b[0mfargs\u001b[0m\u001b[0;34m,\u001b[0m \u001b[0mkwargs\u001b[0m\u001b[0;34m,\u001b[0m\u001b[0;34m\u001b[0m\u001b[0;34m\u001b[0m\u001b[0m\n\u001b[1;32m    565\u001b[0m                                                        \u001b[0mhessian\u001b[0m\u001b[0;34m=\u001b[0m\u001b[0mhess\u001b[0m\u001b[0;34m,\u001b[0m\u001b[0;34m\u001b[0m\u001b[0;34m\u001b[0m\u001b[0m\n",
            "\u001b[0;32m/usr/local/lib/python3.9/dist-packages/statsmodels/base/optimizer.py\u001b[0m in \u001b[0;36m_fit\u001b[0;34m(self, objective, gradient, start_params, fargs, kwargs, hessian, method, maxiter, full_output, disp, callback, retall)\u001b[0m\n\u001b[1;32m    239\u001b[0m \u001b[0;34m\u001b[0m\u001b[0m\n\u001b[1;32m    240\u001b[0m         \u001b[0mfunc\u001b[0m \u001b[0;34m=\u001b[0m \u001b[0mfit_funcs\u001b[0m\u001b[0;34m[\u001b[0m\u001b[0mmethod\u001b[0m\u001b[0;34m]\u001b[0m\u001b[0;34m\u001b[0m\u001b[0;34m\u001b[0m\u001b[0m\n\u001b[0;32m--> 241\u001b[0;31m         xopt, retvals = func(objective, gradient, start_params, fargs, kwargs,\n\u001b[0m\u001b[1;32m    242\u001b[0m                              \u001b[0mdisp\u001b[0m\u001b[0;34m=\u001b[0m\u001b[0mdisp\u001b[0m\u001b[0;34m,\u001b[0m \u001b[0mmaxiter\u001b[0m\u001b[0;34m=\u001b[0m\u001b[0mmaxiter\u001b[0m\u001b[0;34m,\u001b[0m \u001b[0mcallback\u001b[0m\u001b[0;34m=\u001b[0m\u001b[0mcallback\u001b[0m\u001b[0;34m,\u001b[0m\u001b[0;34m\u001b[0m\u001b[0;34m\u001b[0m\u001b[0m\n\u001b[1;32m    243\u001b[0m                              \u001b[0mretall\u001b[0m\u001b[0;34m=\u001b[0m\u001b[0mretall\u001b[0m\u001b[0;34m,\u001b[0m \u001b[0mfull_output\u001b[0m\u001b[0;34m=\u001b[0m\u001b[0mfull_output\u001b[0m\u001b[0;34m,\u001b[0m\u001b[0;34m\u001b[0m\u001b[0;34m\u001b[0m\u001b[0m\n",
            "\u001b[0;32m/usr/local/lib/python3.9/dist-packages/statsmodels/base/optimizer.py\u001b[0m in \u001b[0;36m_fit_newton\u001b[0;34m(f, score, start_params, fargs, kwargs, disp, maxiter, callback, retall, full_output, hess, ridge_factor)\u001b[0m\n\u001b[1;32m    437\u001b[0m             \u001b[0mH\u001b[0m\u001b[0;34m[\u001b[0m\u001b[0mnp\u001b[0m\u001b[0;34m.\u001b[0m\u001b[0mdiag_indices\u001b[0m\u001b[0;34m(\u001b[0m\u001b[0mH\u001b[0m\u001b[0;34m.\u001b[0m\u001b[0mshape\u001b[0m\u001b[0;34m[\u001b[0m\u001b[0;36m0\u001b[0m\u001b[0;34m]\u001b[0m\u001b[0;34m)\u001b[0m\u001b[0;34m]\u001b[0m \u001b[0;34m+=\u001b[0m \u001b[0mridge_factor\u001b[0m\u001b[0;34m\u001b[0m\u001b[0;34m\u001b[0m\u001b[0m\n\u001b[1;32m    438\u001b[0m         \u001b[0moldparams\u001b[0m \u001b[0;34m=\u001b[0m \u001b[0mnewparams\u001b[0m\u001b[0;34m\u001b[0m\u001b[0;34m\u001b[0m\u001b[0m\n\u001b[0;32m--> 439\u001b[0;31m         \u001b[0mnewparams\u001b[0m \u001b[0;34m=\u001b[0m \u001b[0moldparams\u001b[0m \u001b[0;34m-\u001b[0m \u001b[0mnp\u001b[0m\u001b[0;34m.\u001b[0m\u001b[0mlinalg\u001b[0m\u001b[0;34m.\u001b[0m\u001b[0msolve\u001b[0m\u001b[0;34m(\u001b[0m\u001b[0mH\u001b[0m\u001b[0;34m,\u001b[0m \u001b[0mscore\u001b[0m\u001b[0;34m(\u001b[0m\u001b[0moldparams\u001b[0m\u001b[0;34m)\u001b[0m\u001b[0;34m)\u001b[0m\u001b[0;34m\u001b[0m\u001b[0;34m\u001b[0m\u001b[0m\n\u001b[0m\u001b[1;32m    440\u001b[0m         \u001b[0;32mif\u001b[0m \u001b[0mretall\u001b[0m\u001b[0;34m:\u001b[0m\u001b[0;34m\u001b[0m\u001b[0;34m\u001b[0m\u001b[0m\n\u001b[1;32m    441\u001b[0m             \u001b[0mhistory\u001b[0m\u001b[0;34m.\u001b[0m\u001b[0mappend\u001b[0m\u001b[0;34m(\u001b[0m\u001b[0mnewparams\u001b[0m\u001b[0;34m)\u001b[0m\u001b[0;34m\u001b[0m\u001b[0;34m\u001b[0m\u001b[0m\n",
            "\u001b[0;32m/usr/local/lib/python3.9/dist-packages/statsmodels/base/model.py\u001b[0m in \u001b[0;36mscore\u001b[0;34m(params, *args)\u001b[0m\n\u001b[1;32m    534\u001b[0m             \u001b[0;31m# TODO: why are score and hess positive?\u001b[0m\u001b[0;34m\u001b[0m\u001b[0;34m\u001b[0m\u001b[0m\n\u001b[1;32m    535\u001b[0m             \u001b[0;32mdef\u001b[0m \u001b[0mscore\u001b[0m\u001b[0;34m(\u001b[0m\u001b[0mparams\u001b[0m\u001b[0;34m,\u001b[0m \u001b[0;34m*\u001b[0m\u001b[0margs\u001b[0m\u001b[0;34m)\u001b[0m\u001b[0;34m:\u001b[0m\u001b[0;34m\u001b[0m\u001b[0;34m\u001b[0m\u001b[0m\n\u001b[0;32m--> 536\u001b[0;31m                 \u001b[0;32mreturn\u001b[0m \u001b[0mself\u001b[0m\u001b[0;34m.\u001b[0m\u001b[0mscore\u001b[0m\u001b[0;34m(\u001b[0m\u001b[0mparams\u001b[0m\u001b[0;34m,\u001b[0m \u001b[0;34m*\u001b[0m\u001b[0margs\u001b[0m\u001b[0;34m)\u001b[0m \u001b[0;34m/\u001b[0m \u001b[0mnobs\u001b[0m\u001b[0;34m\u001b[0m\u001b[0;34m\u001b[0m\u001b[0m\n\u001b[0m\u001b[1;32m    537\u001b[0m \u001b[0;34m\u001b[0m\u001b[0m\n\u001b[1;32m    538\u001b[0m             \u001b[0;32mdef\u001b[0m \u001b[0mhess\u001b[0m\u001b[0;34m(\u001b[0m\u001b[0mparams\u001b[0m\u001b[0;34m,\u001b[0m \u001b[0;34m*\u001b[0m\u001b[0margs\u001b[0m\u001b[0;34m)\u001b[0m\u001b[0;34m:\u001b[0m\u001b[0;34m\u001b[0m\u001b[0;34m\u001b[0m\u001b[0m\n",
            "\u001b[0;32m/usr/local/lib/python3.9/dist-packages/statsmodels/discrete/discrete_model.py\u001b[0m in \u001b[0;36mscore\u001b[0;34m(self, params)\u001b[0m\n\u001b[1;32m   1926\u001b[0m         \u001b[0mX\u001b[0m \u001b[0;34m=\u001b[0m \u001b[0mself\u001b[0m\u001b[0;34m.\u001b[0m\u001b[0mexog\u001b[0m\u001b[0;34m\u001b[0m\u001b[0;34m\u001b[0m\u001b[0m\n\u001b[1;32m   1927\u001b[0m         \u001b[0mL\u001b[0m \u001b[0;34m=\u001b[0m \u001b[0mself\u001b[0m\u001b[0;34m.\u001b[0m\u001b[0mcdf\u001b[0m\u001b[0;34m(\u001b[0m\u001b[0mnp\u001b[0m\u001b[0;34m.\u001b[0m\u001b[0mdot\u001b[0m\u001b[0;34m(\u001b[0m\u001b[0mX\u001b[0m\u001b[0;34m,\u001b[0m\u001b[0mparams\u001b[0m\u001b[0;34m)\u001b[0m\u001b[0;34m)\u001b[0m\u001b[0;34m\u001b[0m\u001b[0;34m\u001b[0m\u001b[0m\n\u001b[0;32m-> 1928\u001b[0;31m         \u001b[0;32mreturn\u001b[0m \u001b[0mnp\u001b[0m\u001b[0;34m.\u001b[0m\u001b[0mdot\u001b[0m\u001b[0;34m(\u001b[0m\u001b[0my\u001b[0m \u001b[0;34m-\u001b[0m \u001b[0mL\u001b[0m\u001b[0;34m,\u001b[0m\u001b[0mX\u001b[0m\u001b[0;34m)\u001b[0m\u001b[0;34m\u001b[0m\u001b[0;34m\u001b[0m\u001b[0m\n\u001b[0m\u001b[1;32m   1929\u001b[0m \u001b[0;34m\u001b[0m\u001b[0m\n\u001b[1;32m   1930\u001b[0m     \u001b[0;32mdef\u001b[0m \u001b[0mscore_obs\u001b[0m\u001b[0;34m(\u001b[0m\u001b[0mself\u001b[0m\u001b[0;34m,\u001b[0m \u001b[0mparams\u001b[0m\u001b[0;34m)\u001b[0m\u001b[0;34m:\u001b[0m\u001b[0;34m\u001b[0m\u001b[0;34m\u001b[0m\u001b[0m\n",
            "\u001b[0;31mValueError\u001b[0m: operands could not be broadcast together with shapes (35,2) (35,) "
          ]
        }
      ]
    },
    {
      "cell_type": "code",
      "source": [
        "model.score(X_train, y_train)"
      ],
      "metadata": {
        "colab": {
          "base_uri": "https://localhost:8080/"
        },
        "id": "lkRdrMy0TSCe",
        "outputId": "e2726df3-7539-498a-8bbe-1a3cb4956240"
      },
      "execution_count": null,
      "outputs": [
        {
          "output_type": "execute_result",
          "data": {
            "text/plain": [
              "0.9142857142857143"
            ]
          },
          "metadata": {},
          "execution_count": 38
        }
      ]
    },
    {
      "cell_type": "code",
      "source": [
        "model.score(X_test, y_test)"
      ],
      "metadata": {
        "colab": {
          "base_uri": "https://localhost:8080/"
        },
        "id": "f1YdfXD-UB3W",
        "outputId": "add08393-bb7b-45b1-85b3-9faba14b2808"
      },
      "execution_count": null,
      "outputs": [
        {
          "output_type": "execute_result",
          "data": {
            "text/plain": [
              "0.8888888888888888"
            ]
          },
          "metadata": {},
          "execution_count": 39
        }
      ]
    },
    {
      "cell_type": "code",
      "source": [
        "model.predict_proba(X), X"
      ],
      "metadata": {
        "colab": {
          "base_uri": "https://localhost:8080/"
        },
        "id": "HJhd0hDqUJUc",
        "outputId": "45ad9f85-b149-4084-ac57-d2e990f74ffa"
      },
      "execution_count": null,
      "outputs": [
        {
          "output_type": "execute_result",
          "data": {
            "text/plain": [
              "(array([[0.93034535, 0.06965465],\n",
              "        [0.93034535, 0.06965465],\n",
              "        [0.93034535, 0.06965465],\n",
              "        [0.93034535, 0.06965465],\n",
              "        [0.93034535, 0.06965465],\n",
              "        [0.93034535, 0.06965465],\n",
              "        [0.81792786, 0.18207214],\n",
              "        [0.93034535, 0.06965465],\n",
              "        [0.93034535, 0.06965465],\n",
              "        [0.93034535, 0.06965465],\n",
              "        [0.93034535, 0.06965465],\n",
              "        [0.93034535, 0.06965465],\n",
              "        [0.93034535, 0.06965465],\n",
              "        [0.81792786, 0.18207214],\n",
              "        [0.93034535, 0.06965465],\n",
              "        [0.93034535, 0.06965465],\n",
              "        [0.93034535, 0.06965465],\n",
              "        [0.93034535, 0.06965465],\n",
              "        [0.81792786, 0.18207214],\n",
              "        [0.93034535, 0.06965465],\n",
              "        [0.81792786, 0.18207214],\n",
              "        [0.93034535, 0.06965465],\n",
              "        [0.93034535, 0.06965465],\n",
              "        [0.81792786, 0.18207214],\n",
              "        [0.93034535, 0.06965465],\n",
              "        [0.93034535, 0.06965465],\n",
              "        [0.93034535, 0.06965465],\n",
              "        [0.93034535, 0.06965465],\n",
              "        [0.93034535, 0.06965465],\n",
              "        [0.93034535, 0.06965465],\n",
              "        [0.93034535, 0.06965465],\n",
              "        [0.93034535, 0.06965465],\n",
              "        [0.93034535, 0.06965465],\n",
              "        [0.93034535, 0.06965465],\n",
              "        [0.93034535, 0.06965465],\n",
              "        [0.81792786, 0.18207214],\n",
              "        [0.93034535, 0.06965465],\n",
              "        [0.93034535, 0.06965465],\n",
              "        [0.93034535, 0.06965465],\n",
              "        [0.93034535, 0.06965465],\n",
              "        [0.93034535, 0.06965465],\n",
              "        [0.81792786, 0.18207214],\n",
              "        [0.81792786, 0.18207214],\n",
              "        [0.93034535, 0.06965465]]),\n",
              "     gender\n",
              " 0        1\n",
              " 1        1\n",
              " 2        1\n",
              " 3        1\n",
              " 4        1\n",
              " 5        1\n",
              " 6        0\n",
              " 7        1\n",
              " 8        1\n",
              " 9        1\n",
              " 10       1\n",
              " 11       1\n",
              " 12       1\n",
              " 13       0\n",
              " 14       1\n",
              " 15       1\n",
              " 16       1\n",
              " 17       1\n",
              " 18       0\n",
              " 19       1\n",
              " 20       0\n",
              " 21       1\n",
              " 22       1\n",
              " 23       0\n",
              " 24       1\n",
              " 25       1\n",
              " 26       1\n",
              " 27       1\n",
              " 28       1\n",
              " 29       1\n",
              " 30       1\n",
              " 31       1\n",
              " 32       1\n",
              " 33       1\n",
              " 34       1\n",
              " 35       0\n",
              " 36       1\n",
              " 37       1\n",
              " 38       1\n",
              " 39       1\n",
              " 40       1\n",
              " 41       0\n",
              " 42       0\n",
              " 43       1)"
            ]
          },
          "metadata": {},
          "execution_count": 29
        }
      ]
    }
  ]
}